{
 "cells": [
  {
   "cell_type": "code",
   "execution_count": 2,
   "metadata": {},
   "outputs": [
    {
     "name": "stdout",
     "output_type": "stream",
     "text": [
      "reading data...\n"
     ]
    }
   ],
   "source": [
    "import torch\n",
    "import Model\n",
    "import pandas as pd\n",
    "import numpy as np\n",
    "from Dataset import readData\n",
    "\n",
    "model = torch.load(\"./Model/MF_DoubanMovie_0.005lr_0dropout_20factornum.pth\")\n",
    "_,_,test_dic,_ = readData(\"./New_Movie_score.csv\")"
   ]
  },
  {
   "cell_type": "code",
   "execution_count": 17,
   "metadata": {},
   "outputs": [],
   "source": [
    "test_set = []\n",
    "for i, item_dict in enumerate(test_dic):\n",
    "    user_dic = dict()\n",
    "    user_dic['user_id'] = i\n",
    "    user_dic['rank_gt'] = []\n",
    "    user_dic['rank_predict'] = []\n",
    "\n",
    "    item_id = list(item_dict.keys())\n",
    "    user = torch.full((len(item_id),),i,dtype=torch.int64).cuda()\n",
    "    item = torch.tensor(item_id,dtype=torch.int64).cuda()\n",
    "    prediction = model(user, item).detach().cpu().numpy()[:,np.newaxis]\n",
    "\n",
    "    # 记录正确的排序\n",
    "    item_id = np.array(item_id)[:,np.newaxis]\n",
    "    item_score = np.array(list(item_dict.values()))[:,np.newaxis]\n",
    "    rank_gt = np.concatenate([item_score,item_id],axis=1).tolist()\n",
    "    rank_gt.sort(reverse = True)\n",
    "    for sc , id in rank_gt:\n",
    "        user_dic['rank_gt'].append(f\"{id}({sc})\")\n",
    "    \n",
    "    # 记录预测的排序\n",
    "    rank_predict = np.concatenate([prediction,item_id,item_score],axis=1).tolist()\n",
    "    rank_predict.sort(reverse = True)\n",
    "    for predic , id, sc in rank_predict:\n",
    "        user_dic['rank_predict'].append(f\"{int(id)}({int(sc)})\")\n",
    "    test_set.append(user_dic)"
   ]
  },
  {
   "cell_type": "code",
   "execution_count": null,
   "metadata": {},
   "outputs": [],
   "source": [
    "col_name = ['user_id', 'rank_predict','rank_gt']\n",
    "pd.DataFrame(test_set,columns=col_name).to_csv(\"./rank_result.csv\", index=False)"
   ]
  }
 ],
 "metadata": {
  "kernelspec": {
   "display_name": "Python 3.6.13 ('ai_lab2')",
   "language": "python",
   "name": "python3"
  },
  "language_info": {
   "codemirror_mode": {
    "name": "ipython",
    "version": 3
   },
   "file_extension": ".py",
   "mimetype": "text/x-python",
   "name": "python",
   "nbconvert_exporter": "python",
   "pygments_lexer": "ipython3",
   "version": "3.6.13"
  },
  "orig_nbformat": 4,
  "vscode": {
   "interpreter": {
    "hash": "672933c92d995f60f5b9c350f92c15c1a54ac993410622ae9245e68ebfb0d076"
   }
  }
 },
 "nbformat": 4,
 "nbformat_minor": 2
}
